{
 "cells": [
  {
   "cell_type": "markdown",
   "metadata": {},
   "source": [
    "![copyright](logo.png \"Copyright (c) 2017, Bas Hoonhout\")\n",
    "\n",
    "<div style=\"text-align: right\"> Aeolis workshop material Copyright (c) 2017, Bas Hoonhout </div>\n",
    "<div style=\"text-align: right\"> 2023, Aeolis developer team </div>\n",
    "\n"
   ]
  },
  {
   "cell_type": "markdown",
   "metadata": {},
   "source": [
    "# 4. Sand fences and vegetation\n",
    "\n",
    "This notebook introduces sand fences and vegetation dynamics in AeoLiS.\n",
    "Along with this notebook a series of AeoLiS model schematizations of the Dune In Front of Dike (DIFD) project is provided.\n",
    "These model schematizations can be used to answer a series of questions at the end of this notebook.\n",
    "Note that these model schematizations only have an educational purpose.\n",
    "\n",
    "Execute cells by selecting the cell and press **Shift-Enter**."
   ]
  },
  {
   "cell_type": "markdown",
   "metadata": {},
   "source": [
    "### Helper functions\n",
    "\n",
    "Execute the next cell with **Shift-Enter** to enable the helper functions.\n",
    "Adapt the functions if appropriate."
   ]
  },
  {
   "cell_type": "code",
   "execution_count": 1,
   "metadata": {},
   "outputs": [],
   "source": [
    "%matplotlib inline\n",
    "\n",
    "from plot_tools_DIFD_4 import *"
   ]
  },
  {
   "cell_type": "markdown",
   "metadata": {},
   "source": [
    "Use the commands ``[functionname]?`` or ``[functionname]??`` to get usage information on a particular function.\n",
    "\n",
    "Uncomment one of the following lines and press **Shift-Enter** to see usage information of one of the helper functions."
   ]
  },
  {
   "cell_type": "code",
   "execution_count": null,
   "metadata": {},
   "outputs": [],
   "source": [
    "#plot_topo_fence??\n",
    "#plot_topo_veg??\n",
    "#compare_topo??\n",
    "#compare_flux??"
   ]
  },
  {
   "cell_type": "markdown",
   "metadata": {},
   "source": [
    "## 4.1 Run AeoLiS 1D with sand fences\n",
    "\n",
    "Run the Sand Motor model from the first notebook (see AeoLiS - 1. Introduction) again, but now with tides enabled. Use the following command:\n",
    "\n",
    "``aeolis difd_1year_moisture0_veg0_fence1.txt``\n",
    "\n",
    "Plot the profile evolution."
   ]
  },
  {
   "cell_type": "code",
   "execution_count": null,
   "metadata": {},
   "outputs": [],
   "source": [
    "plot_topo_fence('../models/difd_1year_moisture0_veg0_fence1.nc')"
   ]
  },
  {
   "cell_type": "markdown",
   "metadata": {},
   "source": [
    "## 4.2 Run AeoLiS 1D with vegetation\n",
    "\n",
    "Run the model again, but now with vegetation in front of the dike. Use the following command:\n",
    "\n",
    "``aeolis difd_1year_moisture0_veg1_fence0.txt``\n",
    "\n",
    "Plot the profile evolution."
   ]
  },
  {
   "cell_type": "code",
   "execution_count": 2,
   "metadata": {},
   "outputs": [
    {
     "data": {
      "text/plain": [
       "<AxesSubplot:title={'center':\"['Initial and final profiles']\"}, xlabel='Cross-shore distance [m]', ylabel='Elevation rel MSL [m]'>"
      ]
     },
     "execution_count": 2,
     "metadata": {},
     "output_type": "execute_result"
    },
    {
     "data": {
      "image/png": "[encoded data removed]",
      "text/plain": [
       "<Figure size 720x360 with 1 Axes>"
      ]
     },
     "metadata": {
      "needs_background": "light"
     },
     "output_type": "display_data"
    }
   ],
   "source": [
    "plot_topo_veg('../models/difd_1year_moisture0_veg1_fence0.nc')"
   ]
  },
  {
   "cell_type": "markdown",
   "metadata": {},
   "source": [
    "## 4.3 Compare dune development with sand fences and vegetation\n",
    "\n"
   ]
  },
  {
   "cell_type": "markdown",
   "metadata": {},
   "source": [
    "Compare the final profiles of the simulation with sand fence and vegetation"
   ]
  },
  {
   "cell_type": "code",
   "execution_count": null,
   "metadata": {},
   "outputs": [],
   "source": [
    "compare_topo('../models/difd_1year_moisture0_veg0_fence1.nc','../models/difd_1year_moisture0_veg1_fence0.nc')"
   ]
  },
  {
   "cell_type": "markdown",
   "metadata": {},
   "source": [
    "Compare the flux towards the dike."
   ]
  },
  {
   "cell_type": "code",
   "execution_count": null,
   "metadata": {},
   "outputs": [],
   "source": [
    "compare_flux('../models/difd_1year_moisture0_veg0_fence1.nc','../models/difd_1year_moisture0_veg1_fence0.nc')"
   ]
  },
  {
   "cell_type": "markdown",
   "metadata": {},
   "source": [
    "## 4.4 Questions"
   ]
  },
  {
   "cell_type": "markdown",
   "metadata": {},
   "source": [
    "You just ran and analyzed two additional AeoLiS models. Please take a moment to answer the following questions regarding these runs:\n",
    "\n",
    "What is the difference between the sand fence and vegetation simulation?\n",
    "How do you expect that the morphological evolution will develop in time for the different designs?"
   ]
  }
 ],
 "metadata": {
  "kernelspec": {
   "display_name": "Python 3 (ipykernel)",
   "language": "python",
   "name": "python3"
  },
  "language_info": {
   "codemirror_mode": {
    "name": "ipython",
    "version": 3
   },
   "file_extension": ".py",
   "mimetype": "text/x-python",
   "name": "python",
   "nbconvert_exporter": "python",
   "pygments_lexer": "ipython3",
   "version": "3.8.12"
  }
 },
 "nbformat": 4,
 "nbformat_minor": 2
}
